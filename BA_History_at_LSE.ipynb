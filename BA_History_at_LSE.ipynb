{
  "nbformat": 4,
  "nbformat_minor": 0,
  "metadata": {
    "colab": {
      "provenance": [],
      "authorship_tag": "ABX9TyNTcov42fpPRtAmXTURmpKQ",
      "include_colab_link": true
    },
    "kernelspec": {
      "name": "python3",
      "display_name": "Python 3"
    },
    "language_info": {
      "name": "python"
    }
  },
  "cells": [
    {
      "cell_type": "markdown",
      "metadata": {
        "id": "view-in-github",
        "colab_type": "text"
      },
      "source": [
        "<a href=\"https://colab.research.google.com/github/AnjanaAbY/BA_History_at_LSE/blob/main/BA_History_at_LSE.ipynb\" target=\"_parent\"><img src=\"https://colab.research.google.com/assets/colab-badge.svg\" alt=\"Open In Colab\"/></a>"
      ]
    },
    {
      "cell_type": "code",
      "source": [
        "import pandas as pd\n",
        "import requests\n",
        "from bs4 import BeautifulSoup\n",
        "import re\n",
        "\n",
        "# URL of the webpage\n",
        "url = 'https://www.lse.ac.uk/study-at-lse/Undergraduate/degree-programmes-2024/BA-History?_gl=1*zf34hg*_ga*NDk5MDk0MzY0LjE3MTA4MjE4Mjc.*_ga_LWTEVFESYX*MTcxMDgyMTgyOC4xLjEuMTcxMDgyMjY2NC41OS4wLjA.'\n",
        "\n",
        "# Send a GET request to the URL\n",
        "response = requests.get(url)\n",
        "\n",
        "# Parse the HTML content\n",
        "soup = BeautifulSoup(response.content, 'html.parser')\n",
        "\n",
        "# Extract text from the webpage\n",
        "text = soup.get_text()\n",
        "\n",
        "# Extract relevant information using regex\n",
        "\n",
        "# Extract degree type (Undergraduate or postgraduate)\n",
        "degree_type_match = re.search(r'Undergraduate|postgraduate',text)\n",
        "degree_type = degree_type_match.group(0) if degree_type_match else \"\"\n",
        "\n",
        "# Extract application deadline\n",
        "application_deadline_match = re.search(r'Application deadline\\n(.+)\\n\\nDuration', text)\n",
        "application_deadline = application_deadline_match.group(1) if application_deadline_match else \"\"\n",
        "\n",
        "# Extract duration\n",
        "duration_match = re.search(r'Duration\\n(.+)\\n', text)\n",
        "duration = duration_match.group(1) if duration_match else \"\"\n",
        "\n",
        "# Extract overseas student fees\n",
        "overseas_student_fees_match = re.search(r'international[^.]*£(\\d{1,3},\\d{3})', text)\n",
        "overseas_student_fees = \"£\" + overseas_student_fees_match.group(1) if overseas_student_fees_match else \"\"\n",
        "\n",
        "# Extract entry requirements\n",
        "entry_requirements_match = re.finditer(r'(?:GCSEs.*?)\\nGCSEs(.*?)\\n\\n', text,re.DOTALL)\n",
        "entry_requirements_points = \"\\n\\n\".join(match.group(1).strip() for match in entry_requirements_match)\n",
        "\n",
        "# Extract degree description\n",
        "degree_description_match = re.search(r'BA History offers.*?many employers\\.',text,re.DOTALL)\n",
        "degree_description = degree_description_match.group(0).strip() if degree_description_match else \"\"\n",
        "\n",
        "# Create a dictionary to store the extracted information\n",
        "data = {\n",
        "    'Degree Type': degree_type,\n",
        "    'Application Deadline': application_deadline,\n",
        "    'Duration': duration,\n",
        "    'Overseas Student Fees': overseas_student_fees,\n",
        "    'Entry Requirements': entry_requirements_points,\n",
        "    'Degree Description': degree_description\n",
        "}\n",
        "\n",
        "# Convert the dictionary to a DataFrame\n",
        "df = pd.DataFrame([data])\n",
        "\n",
        "# Save the DataFrame to an Excel file\n",
        "df.to_excel('/content/BA_History_at_LSE.xlsx',index=False)\n",
        "\n",
        "# Print the DataFrame\n",
        "print(df)"
      ],
      "metadata": {
        "colab": {
          "base_uri": "https://localhost:8080/"
        },
        "id": "UHJ-eF7YNjnL",
        "outputId": "ea4f65d3-be33-41c0-d23e-77895389ef0d"
      },
      "execution_count": 69,
      "outputs": [
        {
          "output_type": "stream",
          "name": "stdout",
          "text": [
            "     Degree Type Application Deadline               Duration  \\\n",
            "0  Undergraduate      31 January 2024  Three years full-time   \n",
            "\n",
            "  Overseas Student Fees                                 Entry Requirements  \\\n",
            "0               £26,184  A strong set of GCSE grades including the majo...   \n",
            "\n",
            "                                  Degree Description  \n",
            "0  BA History offers you a range of intellectual ...  \n"
          ]
        }
      ]
    },
    {
      "cell_type": "code",
      "source": [
        "from textblob import TextBlob\n",
        "from collections import Counter\n",
        "\n",
        "# Tokenization and word frequency analysis\n",
        "# Tokenize the text\n",
        "words = re.findall(r'\\b\\w+\\b', text.lower())\n",
        "\n",
        "# Calculate word frequency\n",
        "word_freq = Counter(words)\n",
        "\n",
        "# Print most common words\n",
        "print(\"\\nMost common words:\")\n",
        "print(word_freq.most_common(10))\n",
        "\n",
        "# Sentiment analysis\n",
        "blob = TextBlob(text)\n",
        "sentiment = blob.sentiment\n",
        "print(\"\\nSentiment Analysis:\")\n",
        "print(\"Polarity:\", sentiment.polarity)\n",
        "print(\"Subjectivity:\", sentiment.subjectivity)"
      ],
      "metadata": {
        "colab": {
          "base_uri": "https://localhost:8080/"
        },
        "id": "vCiF4nk-tZ-G",
        "outputId": "4fdddc7a-cbe6-4e13-c07b-b6e224e06c8b"
      },
      "execution_count": 70,
      "outputs": [
        {
          "output_type": "stream",
          "name": "stdout",
          "text": [
            "\n",
            "Most common words:\n",
            "[('the', 255), ('and', 232), ('of', 170), ('to', 161), ('a', 109), ('in', 105), ('lse', 90), ('you', 86), ('for', 82), ('history', 65)]\n",
            "\n",
            "Sentiment Analysis:\n",
            "Polarity: 0.10639917411194008\n",
            "Subjectivity: 0.33558044349267757\n"
          ]
        }
      ]
    },
    {
      "cell_type": "code",
      "source": [],
      "metadata": {
        "id": "9s-kMlD-vA1K"
      },
      "execution_count": null,
      "outputs": []
    }
  ]
}